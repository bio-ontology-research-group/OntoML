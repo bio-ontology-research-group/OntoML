{
  "cells": [
    {
      "cell_type": "markdown",
      "metadata": {},
      "source": [
        "\n# EL Embeddings\n\nThis example corresponds to the paper [EL Embeddings: Geometric Construction of Models for the Description Logic EL++](https://www.ijcai.org/proceedings/2019/845).\n\nThe idea of this paper is to embed EL by modeling ontology classes as $n$-dimensional balls ($n$-balls) and ontology object properties as transformations of those $n$-balls. For each of the normal forms, there is a distance function defined that will work as loss functions in the optimization framework.\n"
      ]
    },
    {
      "cell_type": "markdown",
      "metadata": {},
      "source": [
        "Let's just define the imports that will be needed along the example:\n\n"
      ]
    },
    {
      "cell_type": "code",
      "execution_count": null,
      "metadata": {
        "collapsed": false
      },
      "outputs": [],
      "source": [
        "import mowl\nmowl.init_jvm(\"10g\")\nimport torch as th"
      ]
    },
    {
      "cell_type": "markdown",
      "metadata": {},
      "source": [
        "The EL-Embeddings model, maps ontology classes, object properties and operators into a\ngeometric model. The $\\mathcal{EL}$ description logic is expressed using the\nfollowing General Concept Inclusions (GCIs):\n\n\\begin{align}\\begin{align}\n   C &\\sqsubseteq D & (\\text{GCI 0}) \\\\\n   C_1 \\sqcap C_2 &\\sqsubseteq D & (\\text{GCI 1}) \\\\\n   C &\\sqsubseteq \\exists R. D & (\\text{GCI 2})\\\\\n   \\exists R. C &\\sqsubseteq D & (\\text{GCI 3})\\\\\n   C &\\sqsubseteq \\bot & (\\text{GCI BOT 0}) \\\\\n   C_1 \\sqcap C_2 &\\sqsubseteq \\bot & (\\text{GCI BOT 1}) \\\\\n   \\exists R. C &\\sqsubseteq \\bot & (\\text{GCI BOT 3})\n   \\end{align}\\end{align}\n\nwhere $C,C_1, C_2,D$ are ontology classes and $R$ is an ontology object property\n\n"
      ]
    },
    {
      "cell_type": "markdown",
      "metadata": {},
      "source": [
        "## EL-Embeddings (PyTorch) module.\n\nEL-Embeddings defines a geometric modelling for all the GCIs in the EL language.\nThe implementation of ELEmbeddings module can be found at :class:`mowl.nn.el.elem.module.ELEmModule`.\n\n## EL-Embeddings model\n\nThe module :class:`mowl.nn.el.elem.module.ELEmModule` is used in the :class:`mowl.models.elembeddings.model.ELEmbeddings`.\nIn the use case of this example, we will test over a biological problem, which is\nprotein-protein interactions. Given two proteins $p_1,p_2$, the phenomenon\n\"$p_1$ interacts with $p_2$\" is encoded using GCI 2 as:\n\n\\begin{align}p_1 \\sqsubseteq \\exists interacts\\_with. p_2\\end{align}\n\nFor that, we can use the class :class:`mowl.models.elembeddings.examples.model_ppi.ELEmPPI` mode, which uses the :class:`mowl.datasets.builtin.PPIYeastSlimDataset` dataset.\n\n"
      ]
    },
    {
      "cell_type": "markdown",
      "metadata": {},
      "source": [
        "## Training the model\n\n"
      ]
    },
    {
      "cell_type": "code",
      "execution_count": null,
      "metadata": {
        "collapsed": false
      },
      "outputs": [],
      "source": [
        "from mowl.datasets.builtin import PPIYeastSlimDataset\nfrom mowl.models.elembeddings.examples.model_ppi import ELEmPPI\n\ndataset = PPIYeastSlimDataset()\n\nmodel = ELEmPPI(dataset,\n                embed_dim=30,\n                margin=0.1,\n                reg_norm=1,\n                learning_rate=0.001,\n                epochs=20,\n                batch_size=4096,\n                model_filepath=None,\n                device='cpu')\n\nmodel.train()"
      ]
    },
    {
      "cell_type": "markdown",
      "metadata": {},
      "source": [
        "## Evaluating the model\n\nNow, it is time to evaluate embeddings. For this, we use the\n:class:`ModelRankBasedEvaluator <mowl.evaluation.ModelRankBasedEvaluator>` class.\n\n"
      ]
    },
    {
      "cell_type": "code",
      "execution_count": null,
      "metadata": {
        "collapsed": false
      },
      "outputs": [],
      "source": [
        "from mowl.evaluation import PPIEvaluator\n\nmodel.set_evaluator(PPIEvaluator)\nmodel.evaluate()"
      ]
    }
  ],
  "metadata": {
    "kernelspec": {
      "display_name": "Python 3",
      "language": "python",
      "name": "python3"
    },
    "language_info": {
      "codemirror_mode": {
        "name": "ipython",
        "version": 3
      },
      "file_extension": ".py",
      "mimetype": "text/x-python",
      "name": "python",
      "nbconvert_exporter": "python",
      "pygments_lexer": "ipython3",
      "version": "3.9.19"
    }
  },
  "nbformat": 4,
  "nbformat_minor": 0
}
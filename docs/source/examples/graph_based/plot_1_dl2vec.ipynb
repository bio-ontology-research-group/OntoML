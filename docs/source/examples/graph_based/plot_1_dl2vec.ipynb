{
  "cells": [
    {
      "cell_type": "markdown",
      "metadata": {},
      "source": [
        "\n# DL2Vec\n\nThis example corresponds to the paper [Predicting candidate genes from phenotypes, functions and anatomical site of expression](https://doi.org/10.1093/bioinformatics/btaa879). \n\nThis work is a graph-based machine-learning method to learn from biomedical ontologies. This method works by transforming the ontology into a graph following a set of rules. Random walks are generated from the obtained graph and then processed by a Word2Vec model, which generates \nembeddings of the original ontology classes. This algorithm is applied to generate numerical representations of genes and diseases based on the background knowledge found in the Gene Ontology, which was extended to incorporate phenotypes, functions of the gene products and anatomical location of gene expression. The representations of genes and diseases are then used to predict candidate genes for a given disease.\n"
      ]
    },
    {
      "cell_type": "markdown",
      "metadata": {},
      "source": [
        "To show an example of DL2Vec, we need 3 components:\n\n- The ontology projector\n- The random walks generator\n- The Word2Vec model\n\n"
      ]
    },
    {
      "cell_type": "code",
      "execution_count": null,
      "metadata": {
        "collapsed": false
      },
      "outputs": [],
      "source": [
        "import sys\nsys.path.append('../../')\nimport mowl\nmowl.init_jvm(\"10g\")\n\nfrom mowl.datasets.builtin import GDADatasetV2\nfrom mowl.models import RandomWalkPlusW2VModel\nfrom mowl.projection import DL2VecProjector\nfrom mowl.walking import DeepWalk\nfrom gensim.models.word2vec import LineSentence\nfrom gensim.models import Word2Vec"
      ]
    },
    {
      "cell_type": "markdown",
      "metadata": {},
      "source": [
        "Instantiating the dataset and the model\n\n"
      ]
    },
    {
      "cell_type": "code",
      "execution_count": null,
      "metadata": {
        "collapsed": false
      },
      "outputs": [],
      "source": [
        "dataset = GDADatasetV2()\n\nprint(f\"Number of classes: f{len(dataset.classes)}\")\n\nmodel = RandomWalkPlusW2VModel(dataset)\nmodel.set_projector(DL2VecProjector())\nmodel.set_walker(DeepWalk(5, 5, 0.1, workers=4))\nmodel.set_w2v_model(vector_size=5, epochs=2, window=5, min_count=1, workers=4)\nmodel.train()"
      ]
    },
    {
      "cell_type": "markdown",
      "metadata": {},
      "source": [
        "Evaluating the model\n\n"
      ]
    },
    {
      "cell_type": "code",
      "execution_count": null,
      "metadata": {
        "collapsed": false
      },
      "outputs": [],
      "source": [
        "from mowl.evaluation import GDAEvaluator\nmodel.set_evaluator(GDAEvaluator)\nmodel.evaluate()"
      ]
    }
  ],
  "metadata": {
    "kernelspec": {
      "display_name": "Python 3",
      "language": "python",
      "name": "python3"
    },
    "language_info": {
      "codemirror_mode": {
        "name": "ipython",
        "version": 3
      },
      "file_extension": ".py",
      "mimetype": "text/x-python",
      "name": "python",
      "nbconvert_exporter": "python",
      "pygments_lexer": "ipython3",
      "version": "3.9.19"
    }
  },
  "nbformat": 4,
  "nbformat_minor": 0
}